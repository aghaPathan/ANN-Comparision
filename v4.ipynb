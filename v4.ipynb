{
 "cells": [
  {
   "cell_type": "markdown",
   "metadata": {},
   "source": [
    "# Test case of a data of bank customers leaving the bank. This ANN will predict the probability of a customer either about to leave or not"
   ]
  },
  {
   "cell_type": "code",
   "execution_count": 27,
   "metadata": {},
   "outputs": [],
   "source": [
    "import numpy as np\n",
    "import matplotlib.pyplot as plt\n",
    "import pandas as pd"
   ]
  },
  {
   "cell_type": "markdown",
   "metadata": {},
   "source": [
    "# Importing the dataset"
   ]
  },
  {
   "cell_type": "code",
   "execution_count": 28,
   "metadata": {
    "scrolled": true
   },
   "outputs": [
    {
     "name": "stdout",
     "output_type": "stream",
     "text": [
      "X shape (10000, 10)\n",
      "[[619 'France' 'Female' ... 1 1 101348.88]\n",
      " [608 'Spain' 'Female' ... 0 1 112542.58]\n",
      " [502 'France' 'Female' ... 1 0 113931.57]\n",
      " ...\n",
      " [709 'France' 'Female' ... 0 1 42085.58]\n",
      " [772 'Germany' 'Male' ... 1 0 92888.52]\n",
      " [792 'France' 'Female' ... 1 0 38190.78]]\n",
      "y shape (10000,)\n",
      "[1 0 1 ... 1 1 0]\n"
     ]
    }
   ],
   "source": [
    "dataset = pd.read_csv('Churn_Modelling.csv')\n",
    "X = dataset.iloc[:, 3:13].values\n",
    "y = dataset.iloc[:, 13].values\n",
    "print('X shape', X.shape)\n",
    "print(X)\n",
    "print('y shape', y.shape)\n",
    "print(y)"
   ]
  },
  {
   "cell_type": "markdown",
   "metadata": {},
   "source": [
    "# Encoding categorical data"
   ]
  },
  {
   "cell_type": "code",
   "execution_count": 29,
   "metadata": {
    "scrolled": true
   },
   "outputs": [
    {
     "name": "stderr",
     "output_type": "stream",
     "text": [
      "/home/agha/anaconda3/lib/python3.5/site-packages/sklearn/preprocessing/_encoders.py:363: FutureWarning: The handling of integer data will change in version 0.22. Currently, the categories are determined based on the range [0, max(values)], while in the future they will be determined based on the unique values.\n",
      "If you want the future behaviour and silence this warning, you can specify \"categories='auto'\".\n",
      "In case you used a LabelEncoder before this OneHotEncoder to convert the categories to integers, then you can now use the OneHotEncoder directly.\n",
      "  warnings.warn(msg, FutureWarning)\n",
      "/home/agha/anaconda3/lib/python3.5/site-packages/sklearn/preprocessing/_encoders.py:385: DeprecationWarning: The 'categorical_features' keyword is deprecated in version 0.20 and will be removed in 0.22. You can use the ColumnTransformer instead.\n",
      "  \"use the ColumnTransformer instead.\", DeprecationWarning)\n"
     ]
    },
    {
     "data": {
      "text/plain": [
       "array([[0.0000000e+00, 0.0000000e+00, 6.1900000e+02, ..., 1.0000000e+00,\n",
       "        1.0000000e+00, 1.0134888e+05],\n",
       "       [0.0000000e+00, 1.0000000e+00, 6.0800000e+02, ..., 0.0000000e+00,\n",
       "        1.0000000e+00, 1.1254258e+05],\n",
       "       [0.0000000e+00, 0.0000000e+00, 5.0200000e+02, ..., 1.0000000e+00,\n",
       "        0.0000000e+00, 1.1393157e+05],\n",
       "       ...,\n",
       "       [0.0000000e+00, 0.0000000e+00, 7.0900000e+02, ..., 0.0000000e+00,\n",
       "        1.0000000e+00, 4.2085580e+04],\n",
       "       [1.0000000e+00, 0.0000000e+00, 7.7200000e+02, ..., 1.0000000e+00,\n",
       "        0.0000000e+00, 9.2888520e+04],\n",
       "       [0.0000000e+00, 0.0000000e+00, 7.9200000e+02, ..., 1.0000000e+00,\n",
       "        0.0000000e+00, 3.8190780e+04]])"
      ]
     },
     "execution_count": 29,
     "metadata": {},
     "output_type": "execute_result"
    }
   ],
   "source": [
    "from sklearn.preprocessing import LabelEncoder, OneHotEncoder\n",
    "labelencoder_X_1 = LabelEncoder()\n",
    "# label encoder column 1\n",
    "X[:, 1] = labelencoder_X_1.fit_transform(X[:, 1])\n",
    "labelencoder_X_2 = LabelEncoder()\n",
    "# label encoder column 2\n",
    "X[:, 2] = labelencoder_X_2.fit_transform(X[:, 2])\n",
    "onehotencoder = OneHotEncoder(categorical_features = [1])\n",
    "X = onehotencoder.fit_transform(X).toarray()\n",
    "X = X[:, 1:]\n",
    "X\n"
   ]
  },
  {
   "cell_type": "markdown",
   "metadata": {},
   "source": [
    "## Splitting the dataset into the Training set and Test set"
   ]
  },
  {
   "cell_type": "code",
   "execution_count": 30,
   "metadata": {},
   "outputs": [],
   "source": [
    "from sklearn.model_selection import train_test_split\n",
    "X_train, X_test, y_train, y_test = train_test_split(X, y, test_size = 0.2, random_state = 0)\n"
   ]
  },
  {
   "cell_type": "code",
   "execution_count": 31,
   "metadata": {},
   "outputs": [],
   "source": [
    "# Feature Scaling\n",
    "from sklearn.preprocessing import StandardScaler\n",
    "sc = StandardScaler()\n",
    "X_train = sc.fit_transform(X_train)\n",
    "X_test = sc.transform(X_test)\n"
   ]
  },
  {
   "cell_type": "markdown",
   "metadata": {},
   "source": [
    "# ANN"
   ]
  },
  {
   "cell_type": "code",
   "execution_count": 32,
   "metadata": {},
   "outputs": [
    {
     "name": "stdout",
     "output_type": "stream",
     "text": [
      "Epoch 1/100\n",
      "8000/8000 [==============================] - 1s 132us/step - loss: 0.4865 - acc: 0.7951\n",
      "Epoch 2/100\n",
      "8000/8000 [==============================] - 1s 81us/step - loss: 0.4246 - acc: 0.7960\n",
      "Epoch 3/100\n",
      "8000/8000 [==============================] - 1s 80us/step - loss: 0.4205 - acc: 0.8049\n",
      "Epoch 4/100\n",
      "8000/8000 [==============================] - 1s 79us/step - loss: 0.4176 - acc: 0.8231\n",
      "Epoch 5/100\n",
      "8000/8000 [==============================] - 1s 80us/step - loss: 0.4160 - acc: 0.8273\n",
      "Epoch 6/100\n",
      "8000/8000 [==============================] - 1s 83us/step - loss: 0.4133 - acc: 0.8309\n",
      "Epoch 7/100\n",
      "8000/8000 [==============================] - 1s 81us/step - loss: 0.4123 - acc: 0.8324\n",
      "Epoch 8/100\n",
      "8000/8000 [==============================] - 1s 78us/step - loss: 0.4109 - acc: 0.8339\n",
      "Epoch 9/100\n",
      "8000/8000 [==============================] - 1s 77us/step - loss: 0.4105 - acc: 0.8341\n",
      "Epoch 10/100\n",
      "8000/8000 [==============================] - 1s 79us/step - loss: 0.4089 - acc: 0.8336\n",
      "Epoch 11/100\n",
      "8000/8000 [==============================] - 1s 84us/step - loss: 0.4084 - acc: 0.8325\n",
      "Epoch 12/100\n",
      "8000/8000 [==============================] - 1s 83us/step - loss: 0.4070 - acc: 0.8339\n",
      "Epoch 13/100\n",
      "8000/8000 [==============================] - 1s 79us/step - loss: 0.4066 - acc: 0.8348\n",
      "Epoch 14/100\n",
      "8000/8000 [==============================] - 1s 81us/step - loss: 0.4057 - acc: 0.8346\n",
      "Epoch 15/100\n",
      "8000/8000 [==============================] - 1s 80us/step - loss: 0.4047 - acc: 0.8349\n",
      "Epoch 16/100\n",
      "8000/8000 [==============================] - 1s 79us/step - loss: 0.4043 - acc: 0.8338\n",
      "Epoch 17/100\n",
      "8000/8000 [==============================] - 1s 78us/step - loss: 0.4032 - acc: 0.8365\n",
      "Epoch 18/100\n",
      "8000/8000 [==============================] - 1s 82us/step - loss: 0.4034 - acc: 0.8351\n",
      "Epoch 19/100\n",
      "8000/8000 [==============================] - 1s 79us/step - loss: 0.4025 - acc: 0.8349\n",
      "Epoch 20/100\n",
      "8000/8000 [==============================] - 1s 82us/step - loss: 0.4025 - acc: 0.8349\n",
      "Epoch 21/100\n",
      "8000/8000 [==============================] - 1s 82us/step - loss: 0.4017 - acc: 0.8361\n",
      "Epoch 22/100\n",
      "8000/8000 [==============================] - 1s 89us/step - loss: 0.4011 - acc: 0.8346\n",
      "Epoch 23/100\n",
      "8000/8000 [==============================] - 1s 81us/step - loss: 0.4014 - acc: 0.8355\n",
      "Epoch 24/100\n",
      "8000/8000 [==============================] - 1s 82us/step - loss: 0.4011 - acc: 0.8364\n",
      "Epoch 25/100\n",
      "8000/8000 [==============================] - 1s 80us/step - loss: 0.3995 - acc: 0.8364\n",
      "Epoch 26/100\n",
      "8000/8000 [==============================] - 1s 83us/step - loss: 0.3992 - acc: 0.8350\n",
      "Epoch 27/100\n",
      "8000/8000 [==============================] - 1s 82us/step - loss: 0.3994 - acc: 0.8356\n",
      "Epoch 28/100\n",
      "8000/8000 [==============================] - 1s 81us/step - loss: 0.3992 - acc: 0.8364\n",
      "Epoch 29/100\n",
      "8000/8000 [==============================] - 1s 85us/step - loss: 0.3981 - acc: 0.8358\n",
      "Epoch 30/100\n",
      "8000/8000 [==============================] - 1s 82us/step - loss: 0.3984 - acc: 0.8364\n",
      "Epoch 31/100\n",
      "8000/8000 [==============================] - 1s 83us/step - loss: 0.3972 - acc: 0.8370\n",
      "Epoch 32/100\n",
      "8000/8000 [==============================] - 1s 82us/step - loss: 0.3978 - acc: 0.8363\n",
      "Epoch 33/100\n",
      "8000/8000 [==============================] - 1s 82us/step - loss: 0.3975 - acc: 0.8361\n",
      "Epoch 34/100\n",
      "8000/8000 [==============================] - 1s 80us/step - loss: 0.3973 - acc: 0.8356\n",
      "Epoch 35/100\n",
      "8000/8000 [==============================] - 1s 82us/step - loss: 0.3977 - acc: 0.8365\n",
      "Epoch 36/100\n",
      "8000/8000 [==============================] - 1s 82us/step - loss: 0.3967 - acc: 0.8356\n",
      "Epoch 37/100\n",
      "8000/8000 [==============================] - 1s 81us/step - loss: 0.3966 - acc: 0.8371\n",
      "Epoch 38/100\n",
      "8000/8000 [==============================] - 1s 81us/step - loss: 0.3955 - acc: 0.8355\n",
      "Epoch 39/100\n",
      "8000/8000 [==============================] - 1s 82us/step - loss: 0.3956 - acc: 0.8390\n",
      "Epoch 40/100\n",
      "8000/8000 [==============================] - 1s 82us/step - loss: 0.3961 - acc: 0.8367\n",
      "Epoch 41/100\n",
      "8000/8000 [==============================] - 1s 81us/step - loss: 0.3962 - acc: 0.8368\n",
      "Epoch 42/100\n",
      "8000/8000 [==============================] - 1s 80us/step - loss: 0.3960 - acc: 0.8361\n",
      "Epoch 43/100\n",
      "8000/8000 [==============================] - 1s 80us/step - loss: 0.3955 - acc: 0.8368\n",
      "Epoch 44/100\n",
      "8000/8000 [==============================] - 1s 83us/step - loss: 0.3963 - acc: 0.8379\n",
      "Epoch 45/100\n",
      "8000/8000 [==============================] - 1s 81us/step - loss: 0.3953 - acc: 0.8375\n",
      "Epoch 46/100\n",
      "8000/8000 [==============================] - 1s 82us/step - loss: 0.3951 - acc: 0.8360\n",
      "Epoch 47/100\n",
      "8000/8000 [==============================] - 1s 95us/step - loss: 0.3953 - acc: 0.8355\n",
      "Epoch 48/100\n",
      "8000/8000 [==============================] - 1s 88us/step - loss: 0.3945 - acc: 0.8367\n",
      "Epoch 49/100\n",
      "8000/8000 [==============================] - 1s 87us/step - loss: 0.3960 - acc: 0.8359\n",
      "Epoch 50/100\n",
      "8000/8000 [==============================] - 1s 86us/step - loss: 0.3951 - acc: 0.8358\n",
      "Epoch 51/100\n",
      "8000/8000 [==============================] - 1s 81us/step - loss: 0.3953 - acc: 0.8356\n",
      "Epoch 52/100\n",
      "8000/8000 [==============================] - 1s 82us/step - loss: 0.3951 - acc: 0.8366\n",
      "Epoch 53/100\n",
      "8000/8000 [==============================] - 1s 80us/step - loss: 0.3948 - acc: 0.8363\n",
      "Epoch 54/100\n",
      "8000/8000 [==============================] - 1s 84us/step - loss: 0.3941 - acc: 0.8358\n",
      "Epoch 55/100\n",
      "8000/8000 [==============================] - 1s 87us/step - loss: 0.3951 - acc: 0.8376\n",
      "Epoch 56/100\n",
      "8000/8000 [==============================] - 1s 94us/step - loss: 0.3949 - acc: 0.8365\n",
      "Epoch 57/100\n",
      "8000/8000 [==============================] - 1s 86us/step - loss: 0.3944 - acc: 0.8364\n",
      "Epoch 58/100\n",
      "8000/8000 [==============================] - 1s 81us/step - loss: 0.3939 - acc: 0.8385\n",
      "Epoch 59/100\n",
      "8000/8000 [==============================] - 1s 82us/step - loss: 0.3947 - acc: 0.8379\n",
      "Epoch 60/100\n",
      "8000/8000 [==============================] - 1s 83us/step - loss: 0.3934 - acc: 0.8388\n",
      "Epoch 61/100\n",
      "8000/8000 [==============================] - 1s 82us/step - loss: 0.3943 - acc: 0.8379\n",
      "Epoch 62/100\n",
      "8000/8000 [==============================] - 1s 87us/step - loss: 0.3942 - acc: 0.8358\n",
      "Epoch 63/100\n",
      "8000/8000 [==============================] - 1s 81us/step - loss: 0.3940 - acc: 0.8353\n",
      "Epoch 64/100\n",
      "8000/8000 [==============================] - 1s 84us/step - loss: 0.3943 - acc: 0.8368\n",
      "Epoch 65/100\n",
      "8000/8000 [==============================] - 1s 84us/step - loss: 0.3940 - acc: 0.8370\n",
      "Epoch 66/100\n",
      "8000/8000 [==============================] - 1s 85us/step - loss: 0.3933 - acc: 0.8376\n",
      "Epoch 67/100\n",
      "8000/8000 [==============================] - 1s 84us/step - loss: 0.3940 - acc: 0.8371\n",
      "Epoch 68/100\n",
      "8000/8000 [==============================] - 1s 83us/step - loss: 0.3936 - acc: 0.8377\n",
      "Epoch 69/100\n",
      "8000/8000 [==============================] - 1s 86us/step - loss: 0.3926 - acc: 0.8385\n",
      "Epoch 70/100\n",
      "8000/8000 [==============================] - 1s 83us/step - loss: 0.3938 - acc: 0.8370\n",
      "Epoch 71/100\n",
      "8000/8000 [==============================] - 1s 84us/step - loss: 0.3932 - acc: 0.8393\n",
      "Epoch 72/100\n",
      "8000/8000 [==============================] - 1s 83us/step - loss: 0.3923 - acc: 0.8389\n",
      "Epoch 73/100\n",
      "8000/8000 [==============================] - 1s 87us/step - loss: 0.3927 - acc: 0.8371\n",
      "Epoch 74/100\n",
      "8000/8000 [==============================] - 1s 82us/step - loss: 0.3932 - acc: 0.8373\n",
      "Epoch 75/100\n",
      "8000/8000 [==============================] - 1s 86us/step - loss: 0.3939 - acc: 0.8380\n",
      "Epoch 76/100\n",
      "8000/8000 [==============================] - 1s 88us/step - loss: 0.3936 - acc: 0.8391\n",
      "Epoch 77/100\n",
      "8000/8000 [==============================] - 1s 87us/step - loss: 0.3925 - acc: 0.8374\n",
      "Epoch 78/100\n",
      "8000/8000 [==============================] - 1s 84us/step - loss: 0.3929 - acc: 0.8376\n",
      "Epoch 79/100\n",
      "8000/8000 [==============================] - 1s 86us/step - loss: 0.3931 - acc: 0.8376\n",
      "Epoch 80/100\n",
      "8000/8000 [==============================] - 1s 82us/step - loss: 0.3921 - acc: 0.8386\n",
      "Epoch 81/100\n",
      "8000/8000 [==============================] - 1s 85us/step - loss: 0.3933 - acc: 0.8393\n",
      "Epoch 82/100\n",
      "8000/8000 [==============================] - 1s 86us/step - loss: 0.3881 - acc: 0.8391\n",
      "Epoch 83/100\n"
     ]
    },
    {
     "name": "stdout",
     "output_type": "stream",
     "text": [
      "8000/8000 [==============================] - 1s 86us/step - loss: 0.3724 - acc: 0.8480\n",
      "Epoch 84/100\n",
      "8000/8000 [==============================] - 1s 76us/step - loss: 0.3534 - acc: 0.8549\n",
      "Epoch 85/100\n",
      "8000/8000 [==============================] - 1s 81us/step - loss: 0.3432 - acc: 0.8606\n",
      "Epoch 86/100\n",
      "8000/8000 [==============================] - 1s 80us/step - loss: 0.3387 - acc: 0.8634\n",
      "Epoch 87/100\n",
      "8000/8000 [==============================] - 1s 79us/step - loss: 0.3381 - acc: 0.8621\n",
      "Epoch 88/100\n",
      "8000/8000 [==============================] - 1s 80us/step - loss: 0.3369 - acc: 0.8615\n",
      "Epoch 89/100\n",
      "8000/8000 [==============================] - 1s 82us/step - loss: 0.3363 - acc: 0.8633\n",
      "Epoch 90/100\n",
      "8000/8000 [==============================] - 1s 78us/step - loss: 0.3362 - acc: 0.8637\n",
      "Epoch 91/100\n",
      "8000/8000 [==============================] - 1s 80us/step - loss: 0.3350 - acc: 0.8679\n",
      "Epoch 92/100\n",
      "8000/8000 [==============================] - 1s 80us/step - loss: 0.3350 - acc: 0.8639\n",
      "Epoch 93/100\n",
      "8000/8000 [==============================] - 1s 80us/step - loss: 0.3344 - acc: 0.8620\n",
      "Epoch 94/100\n",
      "8000/8000 [==============================] - 1s 78us/step - loss: 0.3346 - acc: 0.8643\n",
      "Epoch 95/100\n",
      "8000/8000 [==============================] - 1s 80us/step - loss: 0.3351 - acc: 0.8624\n",
      "Epoch 96/100\n",
      "8000/8000 [==============================] - 1s 84us/step - loss: 0.3348 - acc: 0.8632\n",
      "Epoch 97/100\n",
      "8000/8000 [==============================] - 1s 82us/step - loss: 0.3346 - acc: 0.8652\n",
      "Epoch 98/100\n",
      "8000/8000 [==============================] - 1s 87us/step - loss: 0.3340 - acc: 0.8649\n",
      "Epoch 99/100\n",
      "8000/8000 [==============================] - 1s 101us/step - loss: 0.3340 - acc: 0.8635\n",
      "Epoch 100/100\n",
      "8000/8000 [==============================] - 1s 82us/step - loss: 0.3338 - acc: 0.8636\n"
     ]
    },
    {
     "data": {
      "text/plain": [
       "<keras.callbacks.History at 0x7f2ed980ada0>"
      ]
     },
     "execution_count": 32,
     "metadata": {},
     "output_type": "execute_result"
    }
   ],
   "source": [
    "# Importing the Keras libraries and packages\n",
    "import keras\n",
    "from keras.models import Sequential\n",
    "from keras.layers import Dense\n",
    "\n",
    "# Initialising the ANN\n",
    "classifier = Sequential()\n",
    "\n",
    "# Adding the input layer and the first hidden layer\n",
    "classifier.add(Dense(units = 16, kernel_initializer = 'uniform', activation = 'relu', input_dim = 11))\n",
    "\n",
    "# Adding the second hidden layer\n",
    "classifier.add(Dense(units = 16, kernel_initializer = 'uniform', activation = 'relu'))\n",
    "\n",
    "# Adding the output layer\n",
    "classifier.add(Dense(units = 1, kernel_initializer = 'uniform', activation = 'sigmoid'))\n",
    "\n",
    "# Compiling the ANN\n",
    "classifier.compile(optimizer = 'adam', loss = 'binary_crossentropy', metrics = ['accuracy'])\n",
    "\n",
    "# Fitting the ANN to the Training set\n",
    "classifier.fit(X_train, y_train, batch_size = 20, epochs = 100)\n"
   ]
  },
  {
   "cell_type": "markdown",
   "metadata": {},
   "source": [
    "# Part 3 - Making predictions and evaluating the model"
   ]
  },
  {
   "cell_type": "code",
   "execution_count": 33,
   "metadata": {},
   "outputs": [
    {
     "data": {
      "text/plain": [
       "array([[1526,   69],\n",
       "       [ 201,  204]])"
      ]
     },
     "execution_count": 33,
     "metadata": {},
     "output_type": "execute_result"
    }
   ],
   "source": [
    "# Predicting the Test set results\n",
    "y_pred = classifier.predict(X_test)\n",
    "# Threshold\n",
    "y_pred = (y_pred > 0.5)\n",
    "\n",
    "# Making the Confusion Matrix\n",
    "from sklearn.metrics import confusion_matrix\n",
    "cm = confusion_matrix(y_test, y_pred)\n",
    "cm"
   ]
  },
  {
   "cell_type": "code",
   "execution_count": 34,
   "metadata": {},
   "outputs": [
    {
     "name": "stdout",
     "output_type": "stream",
     "text": [
      "0.865\n"
     ]
    }
   ],
   "source": [
    "# calculate above result\n",
    "print((1526+204)/2000)"
   ]
  },
  {
   "cell_type": "code",
   "execution_count": 9,
   "metadata": {},
   "outputs": [
    {
     "name": "stdout",
     "output_type": "stream",
     "text": [
      "[[False]]\n"
     ]
    }
   ],
   "source": [
    "# Predicting a single new observation\n",
    "\"\"\"Predict if the customer with the following informations will leave the bank:\n",
    "Geography: France\n",
    "Credit Score: 600\n",
    "Gender: Male\n",
    "Age: 40\n",
    "Tenure: 3\n",
    "Balance: 60000\n",
    "Number of Products: 2\n",
    "Has Credit Card: Yes\n",
    "Is Active Member: Yes\n",
    "Estimated Salary: 50000\"\"\"\n",
    "\n",
    "new_prediction = classifier.predict(sc.transform(np.array([[0.0, 0, 600, 1, 40, 3, 60000, 2, 1, 1, 50000]])))\n",
    "new_prediction = (new_prediction > 0.5)\n",
    "print(new_prediction)\n"
   ]
  },
  {
   "cell_type": "code",
   "execution_count": null,
   "metadata": {},
   "outputs": [],
   "source": []
  }
 ],
 "metadata": {
  "kernelspec": {
   "display_name": "Python 3",
   "language": "python",
   "name": "python3"
  },
  "language_info": {
   "codemirror_mode": {
    "name": "ipython",
    "version": 3
   },
   "file_extension": ".py",
   "mimetype": "text/x-python",
   "name": "python",
   "nbconvert_exporter": "python",
   "pygments_lexer": "ipython3",
   "version": "3.5.5"
  }
 },
 "nbformat": 4,
 "nbformat_minor": 2
}
