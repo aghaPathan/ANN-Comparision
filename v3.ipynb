{
 "cells": [
  {
   "cell_type": "markdown",
   "metadata": {},
   "source": [
    "# Test case of a data of bank customers leaving the bank. This ANN will predict the probability of a customer either about to leave or not"
   ]
  },
  {
   "cell_type": "code",
   "execution_count": 19,
   "metadata": {},
   "outputs": [],
   "source": [
    "import numpy as np\n",
    "import matplotlib.pyplot as plt\n",
    "import pandas as pd"
   ]
  },
  {
   "cell_type": "markdown",
   "metadata": {},
   "source": [
    "# Importing the dataset"
   ]
  },
  {
   "cell_type": "code",
   "execution_count": 20,
   "metadata": {
    "scrolled": true
   },
   "outputs": [
    {
     "name": "stdout",
     "output_type": "stream",
     "text": [
      "X shape (10000, 10)\n",
      "[[619 'France' 'Female' ... 1 1 101348.88]\n",
      " [608 'Spain' 'Female' ... 0 1 112542.58]\n",
      " [502 'France' 'Female' ... 1 0 113931.57]\n",
      " ...\n",
      " [709 'France' 'Female' ... 0 1 42085.58]\n",
      " [772 'Germany' 'Male' ... 1 0 92888.52]\n",
      " [792 'France' 'Female' ... 1 0 38190.78]]\n",
      "y shape (10000,)\n",
      "[1 0 1 ... 1 1 0]\n"
     ]
    }
   ],
   "source": [
    "dataset = pd.read_csv('Churn_Modelling.csv')\n",
    "X = dataset.iloc[:, 3:13].values\n",
    "y = dataset.iloc[:, 13].values\n",
    "print('X shape', X.shape)\n",
    "print(X)\n",
    "print('y shape', y.shape)\n",
    "print(y)"
   ]
  },
  {
   "cell_type": "markdown",
   "metadata": {},
   "source": [
    "# Encoding categorical data"
   ]
  },
  {
   "cell_type": "code",
   "execution_count": 21,
   "metadata": {
    "scrolled": true
   },
   "outputs": [
    {
     "name": "stderr",
     "output_type": "stream",
     "text": [
      "/home/agha/anaconda3/lib/python3.5/site-packages/sklearn/preprocessing/_encoders.py:363: FutureWarning: The handling of integer data will change in version 0.22. Currently, the categories are determined based on the range [0, max(values)], while in the future they will be determined based on the unique values.\n",
      "If you want the future behaviour and silence this warning, you can specify \"categories='auto'\".\n",
      "In case you used a LabelEncoder before this OneHotEncoder to convert the categories to integers, then you can now use the OneHotEncoder directly.\n",
      "  warnings.warn(msg, FutureWarning)\n",
      "/home/agha/anaconda3/lib/python3.5/site-packages/sklearn/preprocessing/_encoders.py:385: DeprecationWarning: The 'categorical_features' keyword is deprecated in version 0.20 and will be removed in 0.22. You can use the ColumnTransformer instead.\n",
      "  \"use the ColumnTransformer instead.\", DeprecationWarning)\n"
     ]
    },
    {
     "data": {
      "text/plain": [
       "array([[0.0000000e+00, 0.0000000e+00, 6.1900000e+02, ..., 1.0000000e+00,\n",
       "        1.0000000e+00, 1.0134888e+05],\n",
       "       [0.0000000e+00, 1.0000000e+00, 6.0800000e+02, ..., 0.0000000e+00,\n",
       "        1.0000000e+00, 1.1254258e+05],\n",
       "       [0.0000000e+00, 0.0000000e+00, 5.0200000e+02, ..., 1.0000000e+00,\n",
       "        0.0000000e+00, 1.1393157e+05],\n",
       "       ...,\n",
       "       [0.0000000e+00, 0.0000000e+00, 7.0900000e+02, ..., 0.0000000e+00,\n",
       "        1.0000000e+00, 4.2085580e+04],\n",
       "       [1.0000000e+00, 0.0000000e+00, 7.7200000e+02, ..., 1.0000000e+00,\n",
       "        0.0000000e+00, 9.2888520e+04],\n",
       "       [0.0000000e+00, 0.0000000e+00, 7.9200000e+02, ..., 1.0000000e+00,\n",
       "        0.0000000e+00, 3.8190780e+04]])"
      ]
     },
     "execution_count": 21,
     "metadata": {},
     "output_type": "execute_result"
    }
   ],
   "source": [
    "from sklearn.preprocessing import LabelEncoder, OneHotEncoder\n",
    "labelencoder_X_1 = LabelEncoder()\n",
    "# label encoder column 1\n",
    "X[:, 1] = labelencoder_X_1.fit_transform(X[:, 1])\n",
    "labelencoder_X_2 = LabelEncoder()\n",
    "# label encoder column 2\n",
    "X[:, 2] = labelencoder_X_2.fit_transform(X[:, 2])\n",
    "onehotencoder = OneHotEncoder(categorical_features = [1])\n",
    "X = onehotencoder.fit_transform(X).toarray()\n",
    "X = X[:, 1:]\n",
    "X\n"
   ]
  },
  {
   "cell_type": "markdown",
   "metadata": {},
   "source": [
    "## Splitting the dataset into the Training set and Test set"
   ]
  },
  {
   "cell_type": "code",
   "execution_count": 22,
   "metadata": {},
   "outputs": [],
   "source": [
    "from sklearn.model_selection import train_test_split\n",
    "X_train, X_test, y_train, y_test = train_test_split(X, y, test_size = 0.2, random_state = 0)\n"
   ]
  },
  {
   "cell_type": "code",
   "execution_count": 23,
   "metadata": {},
   "outputs": [],
   "source": [
    "# Feature Scaling\n",
    "from sklearn.preprocessing import StandardScaler\n",
    "sc = StandardScaler()\n",
    "X_train = sc.fit_transform(X_train)\n",
    "X_test = sc.transform(X_test)\n"
   ]
  },
  {
   "cell_type": "markdown",
   "metadata": {},
   "source": [
    "# ANN"
   ]
  },
  {
   "cell_type": "code",
   "execution_count": 24,
   "metadata": {},
   "outputs": [
    {
     "name": "stdout",
     "output_type": "stream",
     "text": [
      "Epoch 1/100\n",
      "8000/8000 [==============================] - 1s 115us/step - loss: 0.5549 - acc: 0.7934\n",
      "Epoch 2/100\n",
      "8000/8000 [==============================] - 1s 73us/step - loss: 0.4290 - acc: 0.8043\n",
      "Epoch 3/100\n",
      "8000/8000 [==============================] - 1s 74us/step - loss: 0.4144 - acc: 0.8179\n",
      "Epoch 4/100\n",
      "8000/8000 [==============================] - 1s 77us/step - loss: 0.4063 - acc: 0.8229\n",
      "Epoch 5/100\n",
      "8000/8000 [==============================] - 1s 74us/step - loss: 0.4000 - acc: 0.8261\n",
      "Epoch 6/100\n",
      "8000/8000 [==============================] - 1s 72us/step - loss: 0.3950 - acc: 0.8271\n",
      "Epoch 7/100\n",
      "8000/8000 [==============================] - 1s 73us/step - loss: 0.3909 - acc: 0.8295\n",
      "Epoch 8/100\n",
      "8000/8000 [==============================] - 1s 72us/step - loss: 0.3871 - acc: 0.8316\n",
      "Epoch 9/100\n",
      "8000/8000 [==============================] - 1s 72us/step - loss: 0.3847 - acc: 0.8305\n",
      "Epoch 10/100\n",
      "8000/8000 [==============================] - 1s 74us/step - loss: 0.3818 - acc: 0.8323\n",
      "Epoch 11/100\n",
      "8000/8000 [==============================] - 1s 72us/step - loss: 0.3799 - acc: 0.8296\n",
      "Epoch 12/100\n",
      "8000/8000 [==============================] - 1s 79us/step - loss: 0.3781 - acc: 0.8316\n",
      "Epoch 13/100\n",
      "8000/8000 [==============================] - 1s 73us/step - loss: 0.3764 - acc: 0.8319\n",
      "Epoch 14/100\n",
      "8000/8000 [==============================] - 1s 73us/step - loss: 0.3756 - acc: 0.8309\n",
      "Epoch 15/100\n",
      "8000/8000 [==============================] - 1s 75us/step - loss: 0.3740 - acc: 0.8326\n",
      "Epoch 16/100\n",
      "8000/8000 [==============================] - 1s 73us/step - loss: 0.3729 - acc: 0.8320\n",
      "Epoch 17/100\n",
      "8000/8000 [==============================] - 1s 75us/step - loss: 0.3726 - acc: 0.8334\n",
      "Epoch 18/100\n",
      "8000/8000 [==============================] - 1s 74us/step - loss: 0.3712 - acc: 0.8450\n",
      "Epoch 19/100\n",
      "8000/8000 [==============================] - 1s 74us/step - loss: 0.3706 - acc: 0.8463\n",
      "Epoch 20/100\n",
      "8000/8000 [==============================] - 1s 74us/step - loss: 0.3697 - acc: 0.8458\n",
      "Epoch 21/100\n",
      "8000/8000 [==============================] - 1s 75us/step - loss: 0.3689 - acc: 0.8471\n",
      "Epoch 22/100\n",
      "8000/8000 [==============================] - 1s 73us/step - loss: 0.3678 - acc: 0.8475\n",
      "Epoch 23/100\n",
      "8000/8000 [==============================] - 1s 73us/step - loss: 0.3673 - acc: 0.8491\n",
      "Epoch 24/100\n",
      "8000/8000 [==============================] - 1s 79us/step - loss: 0.3673 - acc: 0.8475\n",
      "Epoch 25/100\n",
      "8000/8000 [==============================] - 1s 73us/step - loss: 0.3660 - acc: 0.8490\n",
      "Epoch 26/100\n",
      "8000/8000 [==============================] - 1s 76us/step - loss: 0.3654 - acc: 0.8516\n",
      "Epoch 27/100\n",
      "8000/8000 [==============================] - 1s 78us/step - loss: 0.3652 - acc: 0.8497\n",
      "Epoch 28/100\n",
      "8000/8000 [==============================] - 1s 73us/step - loss: 0.3646 - acc: 0.8504\n",
      "Epoch 29/100\n",
      "8000/8000 [==============================] - 1s 82us/step - loss: 0.3637 - acc: 0.8509\n",
      "Epoch 30/100\n",
      "8000/8000 [==============================] - 1s 77us/step - loss: 0.3636 - acc: 0.8501\n",
      "Epoch 31/100\n",
      "8000/8000 [==============================] - 1s 80us/step - loss: 0.3628 - acc: 0.8510\n",
      "Epoch 32/100\n",
      "8000/8000 [==============================] - 1s 84us/step - loss: 0.3621 - acc: 0.8510\n",
      "Epoch 33/100\n",
      "8000/8000 [==============================] - 1s 76us/step - loss: 0.3621 - acc: 0.8525\n",
      "Epoch 34/100\n",
      "8000/8000 [==============================] - 1s 76us/step - loss: 0.3616 - acc: 0.8520\n",
      "Epoch 35/100\n",
      "8000/8000 [==============================] - 1s 79us/step - loss: 0.3608 - acc: 0.8526\n",
      "Epoch 36/100\n",
      "8000/8000 [==============================] - 1s 74us/step - loss: 0.3607 - acc: 0.8535\n",
      "Epoch 37/100\n",
      "8000/8000 [==============================] - 1s 74us/step - loss: 0.3600 - acc: 0.8525\n",
      "Epoch 38/100\n",
      "8000/8000 [==============================] - 1s 76us/step - loss: 0.3598 - acc: 0.8534\n",
      "Epoch 39/100\n",
      "8000/8000 [==============================] - 1s 79us/step - loss: 0.3593 - acc: 0.8530\n",
      "Epoch 40/100\n",
      "8000/8000 [==============================] - 1s 76us/step - loss: 0.3591 - acc: 0.8535\n",
      "Epoch 41/100\n",
      "8000/8000 [==============================] - 1s 75us/step - loss: 0.3585 - acc: 0.8529\n",
      "Epoch 42/100\n",
      "8000/8000 [==============================] - 1s 74us/step - loss: 0.3581 - acc: 0.8542\n",
      "Epoch 43/100\n",
      "8000/8000 [==============================] - 1s 74us/step - loss: 0.3578 - acc: 0.8556\n",
      "Epoch 44/100\n",
      "8000/8000 [==============================] - 1s 74us/step - loss: 0.3574 - acc: 0.8545\n",
      "Epoch 45/100\n",
      "8000/8000 [==============================] - 1s 73us/step - loss: 0.3572 - acc: 0.8545\n",
      "Epoch 46/100\n",
      "8000/8000 [==============================] - 1s 75us/step - loss: 0.3567 - acc: 0.8552\n",
      "Epoch 47/100\n",
      "8000/8000 [==============================] - 1s 72us/step - loss: 0.3565 - acc: 0.8564\n",
      "Epoch 48/100\n",
      "8000/8000 [==============================] - 1s 76us/step - loss: 0.3560 - acc: 0.8557\n",
      "Epoch 49/100\n",
      "8000/8000 [==============================] - 1s 78us/step - loss: 0.3560 - acc: 0.8552\n",
      "Epoch 50/100\n",
      "8000/8000 [==============================] - 1s 74us/step - loss: 0.3558 - acc: 0.8544\n",
      "Epoch 51/100\n",
      "8000/8000 [==============================] - 1s 82us/step - loss: 0.3550 - acc: 0.8550\n",
      "Epoch 52/100\n",
      "8000/8000 [==============================] - 1s 77us/step - loss: 0.3550 - acc: 0.8561\n",
      "Epoch 53/100\n",
      "8000/8000 [==============================] - 1s 77us/step - loss: 0.3548 - acc: 0.8558\n",
      "Epoch 54/100\n",
      "8000/8000 [==============================] - 1s 76us/step - loss: 0.3547 - acc: 0.8560\n",
      "Epoch 55/100\n",
      "8000/8000 [==============================] - 1s 76us/step - loss: 0.3545 - acc: 0.8565\n",
      "Epoch 56/100\n",
      "8000/8000 [==============================] - 1s 73us/step - loss: 0.3540 - acc: 0.8580\n",
      "Epoch 57/100\n",
      "8000/8000 [==============================] - 1s 76us/step - loss: 0.3539 - acc: 0.8554\n",
      "Epoch 58/100\n",
      "8000/8000 [==============================] - 1s 75us/step - loss: 0.3540 - acc: 0.8564\n",
      "Epoch 59/100\n",
      "8000/8000 [==============================] - 1s 78us/step - loss: 0.3536 - acc: 0.8575\n",
      "Epoch 60/100\n",
      "8000/8000 [==============================] - 1s 75us/step - loss: 0.3531 - acc: 0.8595\n",
      "Epoch 61/100\n",
      "8000/8000 [==============================] - 1s 76us/step - loss: 0.3531 - acc: 0.8571\n",
      "Epoch 62/100\n",
      "8000/8000 [==============================] - 1s 76us/step - loss: 0.3526 - acc: 0.8566\n",
      "Epoch 63/100\n",
      "8000/8000 [==============================] - 1s 76us/step - loss: 0.3529 - acc: 0.8569\n",
      "Epoch 64/100\n",
      "8000/8000 [==============================] - 1s 74us/step - loss: 0.3526 - acc: 0.8580\n",
      "Epoch 65/100\n",
      "8000/8000 [==============================] - 1s 75us/step - loss: 0.3528 - acc: 0.8586\n",
      "Epoch 66/100\n",
      "8000/8000 [==============================] - 1s 75us/step - loss: 0.3519 - acc: 0.8583\n",
      "Epoch 67/100\n",
      "8000/8000 [==============================] - 1s 75us/step - loss: 0.3516 - acc: 0.8580\n",
      "Epoch 68/100\n",
      "8000/8000 [==============================] - 1s 76us/step - loss: 0.3518 - acc: 0.8562\n",
      "Epoch 69/100\n",
      "8000/8000 [==============================] - 1s 76us/step - loss: 0.3522 - acc: 0.8581\n",
      "Epoch 70/100\n",
      "8000/8000 [==============================] - 1s 75us/step - loss: 0.3517 - acc: 0.8589\n",
      "Epoch 71/100\n",
      "8000/8000 [==============================] - 1s 75us/step - loss: 0.3515 - acc: 0.8573\n",
      "Epoch 72/100\n",
      "8000/8000 [==============================] - 1s 78us/step - loss: 0.3516 - acc: 0.8586\n",
      "Epoch 73/100\n",
      "8000/8000 [==============================] - 1s 78us/step - loss: 0.3512 - acc: 0.8580\n",
      "Epoch 74/100\n",
      "8000/8000 [==============================] - 1s 78us/step - loss: 0.3510 - acc: 0.8587\n",
      "Epoch 75/100\n",
      "8000/8000 [==============================] - 1s 79us/step - loss: 0.3511 - acc: 0.8604\n",
      "Epoch 76/100\n",
      "8000/8000 [==============================] - 1s 78us/step - loss: 0.3508 - acc: 0.8576\n",
      "Epoch 77/100\n",
      "8000/8000 [==============================] - 1s 77us/step - loss: 0.3510 - acc: 0.8575\n",
      "Epoch 78/100\n",
      "8000/8000 [==============================] - 1s 80us/step - loss: 0.3510 - acc: 0.8592\n",
      "Epoch 79/100\n",
      "8000/8000 [==============================] - 1s 76us/step - loss: 0.3501 - acc: 0.8581\n",
      "Epoch 80/100\n",
      "8000/8000 [==============================] - 1s 77us/step - loss: 0.3507 - acc: 0.8582\n",
      "Epoch 81/100\n",
      "8000/8000 [==============================] - 1s 78us/step - loss: 0.3504 - acc: 0.8583\n",
      "Epoch 82/100\n",
      "8000/8000 [==============================] - 1s 78us/step - loss: 0.3502 - acc: 0.8594\n",
      "Epoch 83/100\n"
     ]
    },
    {
     "name": "stdout",
     "output_type": "stream",
     "text": [
      "8000/8000 [==============================] - 1s 86us/step - loss: 0.3498 - acc: 0.8595\n",
      "Epoch 84/100\n",
      "8000/8000 [==============================] - 1s 82us/step - loss: 0.3501 - acc: 0.8597\n",
      "Epoch 85/100\n",
      "8000/8000 [==============================] - 1s 75us/step - loss: 0.3499 - acc: 0.8594\n",
      "Epoch 86/100\n",
      "8000/8000 [==============================] - 1s 81us/step - loss: 0.3499 - acc: 0.8592\n",
      "Epoch 87/100\n",
      "8000/8000 [==============================] - 1s 93us/step - loss: 0.3494 - acc: 0.8585\n",
      "Epoch 88/100\n",
      "8000/8000 [==============================] - 1s 83us/step - loss: 0.3497 - acc: 0.8591\n",
      "Epoch 89/100\n",
      "8000/8000 [==============================] - 1s 77us/step - loss: 0.3492 - acc: 0.8587\n",
      "Epoch 90/100\n",
      "8000/8000 [==============================] - 1s 80us/step - loss: 0.3484 - acc: 0.8581\n",
      "Epoch 91/100\n",
      "8000/8000 [==============================] - 1s 89us/step - loss: 0.3490 - acc: 0.8594\n",
      "Epoch 92/100\n",
      "8000/8000 [==============================] - 1s 75us/step - loss: 0.3485 - acc: 0.8589\n",
      "Epoch 93/100\n",
      "8000/8000 [==============================] - 1s 82us/step - loss: 0.3487 - acc: 0.8597\n",
      "Epoch 94/100\n",
      "8000/8000 [==============================] - 1s 76us/step - loss: 0.3490 - acc: 0.8576\n",
      "Epoch 95/100\n",
      "8000/8000 [==============================] - 1s 79us/step - loss: 0.3490 - acc: 0.8580\n",
      "Epoch 96/100\n",
      "8000/8000 [==============================] - 1s 80us/step - loss: 0.3483 - acc: 0.8576\n",
      "Epoch 97/100\n",
      "8000/8000 [==============================] - 1s 96us/step - loss: 0.3485 - acc: 0.8582\n",
      "Epoch 98/100\n",
      "8000/8000 [==============================] - 1s 79us/step - loss: 0.3482 - acc: 0.8587\n",
      "Epoch 99/100\n",
      "8000/8000 [==============================] - 1s 80us/step - loss: 0.3479 - acc: 0.8590\n",
      "Epoch 100/100\n",
      "8000/8000 [==============================] - 1s 78us/step - loss: 0.3478 - acc: 0.8592\n"
     ]
    },
    {
     "data": {
      "text/plain": [
       "<keras.callbacks.History at 0x7f2ee04596d8>"
      ]
     },
     "execution_count": 24,
     "metadata": {},
     "output_type": "execute_result"
    }
   ],
   "source": [
    "# Importing the Keras libraries and packages\n",
    "import keras\n",
    "from keras.models import Sequential\n",
    "from keras.layers import Dense\n",
    "\n",
    "# Initialising the ANN\n",
    "classifier = Sequential()\n",
    "\n",
    "# Adding the input layer and the first hidden layer\n",
    "classifier.add(Dense(units = 6, kernel_initializer = 'uniform', activation = 'relu', input_dim = 11))\n",
    "\n",
    "# Adding the second hidden layer\n",
    "#classifier.add(Dense(units = 6, kernel_initializer = 'uniform', activation = 'relu'))\n",
    "\n",
    "# Adding the output layer\n",
    "classifier.add(Dense(units = 1, kernel_initializer = 'uniform', activation = 'sigmoid'))\n",
    "\n",
    "# Compiling the ANN\n",
    "classifier.compile(optimizer = 'adam', loss = 'binary_crossentropy', metrics = ['accuracy'])\n",
    "\n",
    "# Fitting the ANN to the Training set\n",
    "classifier.fit(X_train, y_train, batch_size = 20, epochs = 100)\n"
   ]
  },
  {
   "cell_type": "markdown",
   "metadata": {},
   "source": [
    "# Part 3 - Making predictions and evaluating the model"
   ]
  },
  {
   "cell_type": "code",
   "execution_count": 25,
   "metadata": {},
   "outputs": [
    {
     "data": {
      "text/plain": [
       "array([[1522,   73],\n",
       "       [ 209,  196]])"
      ]
     },
     "execution_count": 25,
     "metadata": {},
     "output_type": "execute_result"
    }
   ],
   "source": [
    "# Predicting the Test set results\n",
    "y_pred = classifier.predict(X_test)\n",
    "# Threshold\n",
    "y_pred = (y_pred > 0.5)\n",
    "\n",
    "# Making the Confusion Matrix\n",
    "from sklearn.metrics import confusion_matrix\n",
    "cm = confusion_matrix(y_test, y_pred)\n",
    "cm"
   ]
  },
  {
   "cell_type": "code",
   "execution_count": 26,
   "metadata": {},
   "outputs": [
    {
     "name": "stdout",
     "output_type": "stream",
     "text": [
      "0.859\n"
     ]
    }
   ],
   "source": [
    "# calculate above result\n",
    "print((1522+196)/2000)"
   ]
  },
  {
   "cell_type": "code",
   "execution_count": 9,
   "metadata": {},
   "outputs": [
    {
     "name": "stdout",
     "output_type": "stream",
     "text": [
      "[[False]]\n"
     ]
    }
   ],
   "source": [
    "# Predicting a single new observation\n",
    "\"\"\"Predict if the customer with the following informations will leave the bank:\n",
    "Geography: France\n",
    "Credit Score: 600\n",
    "Gender: Male\n",
    "Age: 40\n",
    "Tenure: 3\n",
    "Balance: 60000\n",
    "Number of Products: 2\n",
    "Has Credit Card: Yes\n",
    "Is Active Member: Yes\n",
    "Estimated Salary: 50000\"\"\"\n",
    "\n",
    "new_prediction = classifier.predict(sc.transform(np.array([[0.0, 0, 600, 1, 40, 3, 60000, 2, 1, 1, 50000]])))\n",
    "new_prediction = (new_prediction > 0.5)\n",
    "print(new_prediction)\n"
   ]
  },
  {
   "cell_type": "code",
   "execution_count": null,
   "metadata": {},
   "outputs": [],
   "source": []
  }
 ],
 "metadata": {
  "kernelspec": {
   "display_name": "Python 3",
   "language": "python",
   "name": "python3"
  },
  "language_info": {
   "codemirror_mode": {
    "name": "ipython",
    "version": 3
   },
   "file_extension": ".py",
   "mimetype": "text/x-python",
   "name": "python",
   "nbconvert_exporter": "python",
   "pygments_lexer": "ipython3",
   "version": "3.5.5"
  }
 },
 "nbformat": 4,
 "nbformat_minor": 2
}
