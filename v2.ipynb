{
 "cells": [
  {
   "cell_type": "markdown",
   "metadata": {},
   "source": [
    "# Test case of a data of bank customers leaving the bank. This ANN will predict the probability of a customer either about to leave or not"
   ]
  },
  {
   "cell_type": "code",
   "execution_count": 2,
   "metadata": {},
   "outputs": [],
   "source": [
    "import numpy as np\n",
    "import matplotlib.pyplot as plt\n",
    "import pandas as pd"
   ]
  },
  {
   "cell_type": "markdown",
   "metadata": {},
   "source": [
    "# Importing the dataset"
   ]
  },
  {
   "cell_type": "code",
   "execution_count": 3,
   "metadata": {
    "scrolled": true
   },
   "outputs": [
    {
     "name": "stdout",
     "output_type": "stream",
     "text": [
      "X shape (10000, 10)\n",
      "[[619 'France' 'Female' ... 1 1 101348.88]\n",
      " [608 'Spain' 'Female' ... 0 1 112542.58]\n",
      " [502 'France' 'Female' ... 1 0 113931.57]\n",
      " ...\n",
      " [709 'France' 'Female' ... 0 1 42085.58]\n",
      " [772 'Germany' 'Male' ... 1 0 92888.52]\n",
      " [792 'France' 'Female' ... 1 0 38190.78]]\n",
      "y shape (10000,)\n",
      "[1 0 1 ... 1 1 0]\n"
     ]
    }
   ],
   "source": [
    "dataset = pd.read_csv('Churn_Modelling.csv')\n",
    "X = dataset.iloc[:, 3:13].values\n",
    "y = dataset.iloc[:, 13].values\n",
    "print('X shape', X.shape)\n",
    "print(X)\n",
    "print('y shape', y.shape)\n",
    "print(y)"
   ]
  },
  {
   "cell_type": "markdown",
   "metadata": {},
   "source": [
    "# Encoding categorical data"
   ]
  },
  {
   "cell_type": "code",
   "execution_count": 11,
   "metadata": {
    "scrolled": true
   },
   "outputs": [
    {
     "name": "stderr",
     "output_type": "stream",
     "text": [
      "/home/agha/anaconda3/lib/python3.5/site-packages/sklearn/preprocessing/_encoders.py:363: FutureWarning: The handling of integer data will change in version 0.22. Currently, the categories are determined based on the range [0, max(values)], while in the future they will be determined based on the unique values.\n",
      "If you want the future behaviour and silence this warning, you can specify \"categories='auto'\".\n",
      "In case you used a LabelEncoder before this OneHotEncoder to convert the categories to integers, then you can now use the OneHotEncoder directly.\n",
      "  warnings.warn(msg, FutureWarning)\n",
      "/home/agha/anaconda3/lib/python3.5/site-packages/sklearn/preprocessing/_encoders.py:385: DeprecationWarning: The 'categorical_features' keyword is deprecated in version 0.20 and will be removed in 0.22. You can use the ColumnTransformer instead.\n",
      "  \"use the ColumnTransformer instead.\", DeprecationWarning)\n"
     ]
    },
    {
     "data": {
      "text/plain": [
       "array([[0.0000000e+00, 0.0000000e+00, 2.2800000e+02, ..., 1.0000000e+00,\n",
       "        1.0000000e+00, 1.0134888e+05],\n",
       "       [1.0000000e+00, 0.0000000e+00, 2.1700000e+02, ..., 0.0000000e+00,\n",
       "        1.0000000e+00, 1.1254258e+05],\n",
       "       [0.0000000e+00, 0.0000000e+00, 1.1100000e+02, ..., 1.0000000e+00,\n",
       "        0.0000000e+00, 1.1393157e+05],\n",
       "       ...,\n",
       "       [0.0000000e+00, 0.0000000e+00, 3.1800000e+02, ..., 0.0000000e+00,\n",
       "        1.0000000e+00, 4.2085580e+04],\n",
       "       [0.0000000e+00, 1.0000000e+00, 3.8100000e+02, ..., 1.0000000e+00,\n",
       "        0.0000000e+00, 9.2888520e+04],\n",
       "       [0.0000000e+00, 0.0000000e+00, 4.0100000e+02, ..., 1.0000000e+00,\n",
       "        0.0000000e+00, 3.8190780e+04]])"
      ]
     },
     "execution_count": 11,
     "metadata": {},
     "output_type": "execute_result"
    }
   ],
   "source": [
    "from sklearn.preprocessing import LabelEncoder, OneHotEncoder\n",
    "labelencoder_X_1 = LabelEncoder()\n",
    "# label encoder column 1\n",
    "X[:, 1] = labelencoder_X_1.fit_transform(X[:, 1])\n",
    "labelencoder_X_2 = LabelEncoder()\n",
    "# label encoder column 2\n",
    "X[:, 2] = labelencoder_X_2.fit_transform(X[:, 2])\n",
    "onehotencoder = OneHotEncoder(categorical_features = [1])\n",
    "X = onehotencoder.fit_transform(X).toarray()\n",
    "X = X[:, 1:]\n",
    "X\n"
   ]
  },
  {
   "cell_type": "markdown",
   "metadata": {},
   "source": [
    "## Splitting the dataset into the Training set and Test set"
   ]
  },
  {
   "cell_type": "code",
   "execution_count": 12,
   "metadata": {},
   "outputs": [],
   "source": [
    "from sklearn.model_selection import train_test_split\n",
    "X_train, X_test, y_train, y_test = train_test_split(X, y, test_size = 0.2, random_state = 0)\n"
   ]
  },
  {
   "cell_type": "code",
   "execution_count": 13,
   "metadata": {},
   "outputs": [],
   "source": [
    "# Feature Scaling\n",
    "from sklearn.preprocessing import StandardScaler\n",
    "sc = StandardScaler()\n",
    "X_train = sc.fit_transform(X_train)\n",
    "X_test = sc.transform(X_test)\n"
   ]
  },
  {
   "cell_type": "markdown",
   "metadata": {},
   "source": [
    "# ANN"
   ]
  },
  {
   "cell_type": "code",
   "execution_count": 17,
   "metadata": {},
   "outputs": [
    {
     "name": "stdout",
     "output_type": "stream",
     "text": [
      "Epoch 1/100\n",
      "8000/8000 [==============================] - 1s 138us/step - loss: 0.6343 - acc: 0.6573\n",
      "Epoch 2/100\n",
      "8000/8000 [==============================] - 1s 85us/step - loss: 0.4865 - acc: 0.7960\n",
      "Epoch 3/100\n",
      "8000/8000 [==============================] - 1s 83us/step - loss: 0.4391 - acc: 0.8049\n",
      "Epoch 4/100\n",
      "8000/8000 [==============================] - 1s 81us/step - loss: 0.4128 - acc: 0.8183\n",
      "Epoch 5/100\n",
      "8000/8000 [==============================] - 1s 83us/step - loss: 0.3982 - acc: 0.8278\n",
      "Epoch 6/100\n",
      "8000/8000 [==============================] - 1s 81us/step - loss: 0.3841 - acc: 0.8380\n",
      "Epoch 7/100\n",
      "8000/8000 [==============================] - 1s 85us/step - loss: 0.3728 - acc: 0.8420\n",
      "Epoch 8/100\n",
      "8000/8000 [==============================] - 1s 80us/step - loss: 0.3637 - acc: 0.8483\n",
      "Epoch 9/100\n",
      "8000/8000 [==============================] - 1s 82us/step - loss: 0.3589 - acc: 0.8500\n",
      "Epoch 10/100\n",
      "8000/8000 [==============================] - 1s 82us/step - loss: 0.3550 - acc: 0.8542\n",
      "Epoch 11/100\n",
      "8000/8000 [==============================] - 1s 96us/step - loss: 0.3518 - acc: 0.8547\n",
      "Epoch 12/100\n",
      "8000/8000 [==============================] - 1s 97us/step - loss: 0.3502 - acc: 0.8549\n",
      "Epoch 13/100\n",
      "8000/8000 [==============================] - 1s 91us/step - loss: 0.3487 - acc: 0.8575\n",
      "Epoch 14/100\n",
      "8000/8000 [==============================] - 1s 86us/step - loss: 0.3474 - acc: 0.8587\n",
      "Epoch 15/100\n",
      "8000/8000 [==============================] - 1s 87us/step - loss: 0.3466 - acc: 0.8590\n",
      "Epoch 16/100\n",
      "8000/8000 [==============================] - 1s 99us/step - loss: 0.3459 - acc: 0.8595\n",
      "Epoch 17/100\n",
      "8000/8000 [==============================] - 1s 86us/step - loss: 0.3448 - acc: 0.8585\n",
      "Epoch 18/100\n",
      "8000/8000 [==============================] - 1s 86us/step - loss: 0.3441 - acc: 0.8591\n",
      "Epoch 19/100\n",
      "8000/8000 [==============================] - 1s 85us/step - loss: 0.3433 - acc: 0.8578\n",
      "Epoch 20/100\n",
      "8000/8000 [==============================] - 1s 86us/step - loss: 0.3431 - acc: 0.8591\n",
      "Epoch 21/100\n",
      "8000/8000 [==============================] - 1s 86us/step - loss: 0.3425 - acc: 0.8596\n",
      "Epoch 22/100\n",
      "8000/8000 [==============================] - 1s 82us/step - loss: 0.3416 - acc: 0.8604\n",
      "Epoch 23/100\n",
      "8000/8000 [==============================] - 1s 85us/step - loss: 0.3409 - acc: 0.8603\n",
      "Epoch 24/100\n",
      "8000/8000 [==============================] - 1s 88us/step - loss: 0.3403 - acc: 0.8611\n",
      "Epoch 25/100\n",
      "8000/8000 [==============================] - 1s 85us/step - loss: 0.3397 - acc: 0.8624\n",
      "Epoch 26/100\n",
      "8000/8000 [==============================] - 1s 82us/step - loss: 0.3401 - acc: 0.8609\n",
      "Epoch 27/100\n",
      "8000/8000 [==============================] - 1s 86us/step - loss: 0.3394 - acc: 0.8607\n",
      "Epoch 28/100\n",
      "8000/8000 [==============================] - 1s 89us/step - loss: 0.3388 - acc: 0.8611\n",
      "Epoch 29/100\n",
      "8000/8000 [==============================] - 1s 92us/step - loss: 0.3384 - acc: 0.8615\n",
      "Epoch 30/100\n",
      "8000/8000 [==============================] - 1s 84us/step - loss: 0.3385 - acc: 0.8610\n",
      "Epoch 31/100\n",
      "8000/8000 [==============================] - 1s 86us/step - loss: 0.3383 - acc: 0.8600\n",
      "Epoch 32/100\n",
      "8000/8000 [==============================] - 1s 83us/step - loss: 0.3377 - acc: 0.8620\n",
      "Epoch 33/100\n",
      "8000/8000 [==============================] - 1s 86us/step - loss: 0.3373 - acc: 0.8620\n",
      "Epoch 34/100\n",
      "8000/8000 [==============================] - 1s 85us/step - loss: 0.3369 - acc: 0.8622\n",
      "Epoch 35/100\n",
      "8000/8000 [==============================] - 1s 87us/step - loss: 0.3370 - acc: 0.8599\n",
      "Epoch 36/100\n",
      "8000/8000 [==============================] - 1s 85us/step - loss: 0.3364 - acc: 0.8626\n",
      "Epoch 37/100\n",
      "8000/8000 [==============================] - 1s 84us/step - loss: 0.3361 - acc: 0.8600\n",
      "Epoch 38/100\n",
      "8000/8000 [==============================] - 1s 84us/step - loss: 0.3362 - acc: 0.8615\n",
      "Epoch 39/100\n",
      "8000/8000 [==============================] - 1s 84us/step - loss: 0.3358 - acc: 0.8601\n",
      "Epoch 40/100\n",
      "8000/8000 [==============================] - 1s 85us/step - loss: 0.3351 - acc: 0.8622\n",
      "Epoch 41/100\n",
      "8000/8000 [==============================] - 1s 95us/step - loss: 0.3350 - acc: 0.8623\n",
      "Epoch 42/100\n",
      "8000/8000 [==============================] - 1s 87us/step - loss: 0.3350 - acc: 0.8610\n",
      "Epoch 43/100\n",
      "8000/8000 [==============================] - 1s 83us/step - loss: 0.3348 - acc: 0.8631\n",
      "Epoch 44/100\n",
      "8000/8000 [==============================] - 1s 85us/step - loss: 0.3348 - acc: 0.8614\n",
      "Epoch 45/100\n",
      "8000/8000 [==============================] - 1s 88us/step - loss: 0.3342 - acc: 0.8616\n",
      "Epoch 46/100\n",
      "8000/8000 [==============================] - 1s 89us/step - loss: 0.3346 - acc: 0.8616\n",
      "Epoch 47/100\n",
      "8000/8000 [==============================] - 1s 87us/step - loss: 0.3344 - acc: 0.8617\n",
      "Epoch 48/100\n",
      "8000/8000 [==============================] - 1s 82us/step - loss: 0.3339 - acc: 0.8616\n",
      "Epoch 49/100\n",
      "8000/8000 [==============================] - 1s 82us/step - loss: 0.3341 - acc: 0.8626\n",
      "Epoch 50/100\n",
      "8000/8000 [==============================] - 1s 85us/step - loss: 0.3340 - acc: 0.8617\n",
      "Epoch 51/100\n",
      "8000/8000 [==============================] - 1s 89us/step - loss: 0.3338 - acc: 0.8625\n",
      "Epoch 52/100\n",
      "8000/8000 [==============================] - 1s 84us/step - loss: 0.3340 - acc: 0.8630\n",
      "Epoch 53/100\n",
      "8000/8000 [==============================] - 1s 81us/step - loss: 0.3340 - acc: 0.8617\n",
      "Epoch 54/100\n",
      "8000/8000 [==============================] - 1s 90us/step - loss: 0.3333 - acc: 0.8626\n",
      "Epoch 55/100\n",
      "8000/8000 [==============================] - 1s 87us/step - loss: 0.3338 - acc: 0.8626\n",
      "Epoch 56/100\n",
      "8000/8000 [==============================] - 1s 85us/step - loss: 0.3335 - acc: 0.8621\n",
      "Epoch 57/100\n",
      "8000/8000 [==============================] - 1s 88us/step - loss: 0.3334 - acc: 0.8614\n",
      "Epoch 58/100\n",
      "8000/8000 [==============================] - 1s 81us/step - loss: 0.3335 - acc: 0.8641\n",
      "Epoch 59/100\n",
      "8000/8000 [==============================] - 1s 90us/step - loss: 0.3335 - acc: 0.8615\n",
      "Epoch 60/100\n",
      "8000/8000 [==============================] - 1s 88us/step - loss: 0.3331 - acc: 0.8623\n",
      "Epoch 61/100\n",
      "8000/8000 [==============================] - 1s 83us/step - loss: 0.3335 - acc: 0.8631\n",
      "Epoch 62/100\n",
      "8000/8000 [==============================] - 1s 83us/step - loss: 0.3333 - acc: 0.8622\n",
      "Epoch 63/100\n",
      "8000/8000 [==============================] - 1s 85us/step - loss: 0.3329 - acc: 0.8622\n",
      "Epoch 64/100\n",
      "8000/8000 [==============================] - 1s 82us/step - loss: 0.3331 - acc: 0.8622\n",
      "Epoch 65/100\n",
      "8000/8000 [==============================] - 1s 82us/step - loss: 0.3331 - acc: 0.8617\n",
      "Epoch 66/100\n",
      "8000/8000 [==============================] - 1s 83us/step - loss: 0.3331 - acc: 0.8623\n",
      "Epoch 67/100\n",
      "8000/8000 [==============================] - 1s 85us/step - loss: 0.3326 - acc: 0.8627\n",
      "Epoch 68/100\n",
      "8000/8000 [==============================] - 1s 81us/step - loss: 0.3330 - acc: 0.8646\n",
      "Epoch 69/100\n",
      "8000/8000 [==============================] - 1s 83us/step - loss: 0.3325 - acc: 0.8647\n",
      "Epoch 70/100\n",
      "8000/8000 [==============================] - 1s 84us/step - loss: 0.3327 - acc: 0.8621\n",
      "Epoch 71/100\n",
      "8000/8000 [==============================] - 1s 86us/step - loss: 0.3327 - acc: 0.8634\n",
      "Epoch 72/100\n",
      "8000/8000 [==============================] - 1s 79us/step - loss: 0.3327 - acc: 0.8631\n",
      "Epoch 73/100\n",
      "8000/8000 [==============================] - 1s 84us/step - loss: 0.3325 - acc: 0.8623\n",
      "Epoch 74/100\n",
      "8000/8000 [==============================] - 1s 82us/step - loss: 0.3325 - acc: 0.8627\n",
      "Epoch 75/100\n",
      "8000/8000 [==============================] - 1s 83us/step - loss: 0.3323 - acc: 0.8636\n",
      "Epoch 76/100\n",
      "8000/8000 [==============================] - 1s 85us/step - loss: 0.3325 - acc: 0.8639\n",
      "Epoch 77/100\n",
      "8000/8000 [==============================] - 1s 83us/step - loss: 0.3322 - acc: 0.8632\n",
      "Epoch 78/100\n",
      "8000/8000 [==============================] - 1s 82us/step - loss: 0.3327 - acc: 0.8636\n",
      "Epoch 79/100\n",
      "8000/8000 [==============================] - 1s 83us/step - loss: 0.3324 - acc: 0.8628\n",
      "Epoch 80/100\n",
      "8000/8000 [==============================] - 1s 85us/step - loss: 0.3324 - acc: 0.8636\n",
      "Epoch 81/100\n",
      "8000/8000 [==============================] - 1s 84us/step - loss: 0.3322 - acc: 0.8625\n",
      "Epoch 82/100\n",
      "8000/8000 [==============================] - 1s 86us/step - loss: 0.3316 - acc: 0.8629\n",
      "Epoch 83/100\n"
     ]
    },
    {
     "name": "stdout",
     "output_type": "stream",
     "text": [
      "8000/8000 [==============================] - 1s 84us/step - loss: 0.3318 - acc: 0.8632\n",
      "Epoch 84/100\n",
      "8000/8000 [==============================] - 1s 81us/step - loss: 0.3314 - acc: 0.8630\n",
      "Epoch 85/100\n",
      "8000/8000 [==============================] - 1s 81us/step - loss: 0.3320 - acc: 0.8641\n",
      "Epoch 86/100\n",
      "8000/8000 [==============================] - 1s 82us/step - loss: 0.3316 - acc: 0.8666\n",
      "Epoch 87/100\n",
      "8000/8000 [==============================] - 1s 81us/step - loss: 0.3314 - acc: 0.8642\n",
      "Epoch 88/100\n",
      "8000/8000 [==============================] - 1s 81us/step - loss: 0.3313 - acc: 0.8629\n",
      "Epoch 89/100\n",
      "8000/8000 [==============================] - 1s 85us/step - loss: 0.3317 - acc: 0.8635\n",
      "Epoch 90/100\n",
      "8000/8000 [==============================] - 1s 82us/step - loss: 0.3312 - acc: 0.8627\n",
      "Epoch 91/100\n",
      "8000/8000 [==============================] - 1s 82us/step - loss: 0.3316 - acc: 0.8642\n",
      "Epoch 92/100\n",
      "8000/8000 [==============================] - 1s 84us/step - loss: 0.3316 - acc: 0.8649\n",
      "Epoch 93/100\n",
      "8000/8000 [==============================] - 1s 83us/step - loss: 0.3309 - acc: 0.8642\n",
      "Epoch 94/100\n",
      "8000/8000 [==============================] - 1s 81us/step - loss: 0.3312 - acc: 0.8640\n",
      "Epoch 95/100\n",
      "8000/8000 [==============================] - 1s 84us/step - loss: 0.3312 - acc: 0.8645\n",
      "Epoch 96/100\n",
      "8000/8000 [==============================] - 1s 82us/step - loss: 0.3312 - acc: 0.8645\n",
      "Epoch 97/100\n",
      "8000/8000 [==============================] - 1s 82us/step - loss: 0.3314 - acc: 0.8647\n",
      "Epoch 98/100\n",
      "8000/8000 [==============================] - 1s 81us/step - loss: 0.3309 - acc: 0.8629\n",
      "Epoch 99/100\n",
      "8000/8000 [==============================] - 1s 80us/step - loss: 0.3310 - acc: 0.8644\n",
      "Epoch 100/100\n",
      "8000/8000 [==============================] - 1s 79us/step - loss: 0.3309 - acc: 0.8645\n"
     ]
    },
    {
     "data": {
      "text/plain": [
       "<keras.callbacks.History at 0x7fc0182bc5c0>"
      ]
     },
     "execution_count": 17,
     "metadata": {},
     "output_type": "execute_result"
    }
   ],
   "source": [
    "# Importing the Keras libraries and packages\n",
    "import keras\n",
    "from keras.models import Sequential\n",
    "from keras.layers import Dense\n",
    "\n",
    "# Initialising the ANN\n",
    "classifier = Sequential()\n",
    "\n",
    "# Adding the input layer and the first hidden layer\n",
    "classifier.add(Dense(units = 6, kernel_initializer = 'glorot_uniform', activation = 'relu', input_dim = 11))\n",
    "\n",
    "# Adding the second hidden layer\n",
    "classifier.add(Dense(units = 6, kernel_initializer = 'glorot_uniform', activation = 'relu'))\n",
    "\n",
    "# Adding the output layer\n",
    "classifier.add(Dense(units = 1, kernel_initializer = 'glorot_uniform', activation = 'sigmoid'))\n",
    "\n",
    "# Compiling the ANN\n",
    "classifier.compile(optimizer = 'adam', loss = 'binary_crossentropy', metrics = ['accuracy'])\n",
    "\n",
    "# Fitting the ANN to the Training set\n",
    "classifier.fit(X_train, y_train, batch_size = 20, epochs = 100)\n"
   ]
  },
  {
   "cell_type": "markdown",
   "metadata": {},
   "source": [
    "# Part 3 - Making predictions and evaluating the model"
   ]
  },
  {
   "cell_type": "code",
   "execution_count": 18,
   "metadata": {},
   "outputs": [
    {
     "data": {
      "text/plain": [
       "array([[1519,   76],\n",
       "       [ 198,  207]])"
      ]
     },
     "execution_count": 18,
     "metadata": {},
     "output_type": "execute_result"
    }
   ],
   "source": [
    "# Predicting the Test set results\n",
    "y_pred = classifier.predict(X_test)\n",
    "# Threshold\n",
    "y_pred = (y_pred > 0.5)\n",
    "\n",
    "# Making the Confusion Matrix\n",
    "from sklearn.metrics import confusion_matrix\n",
    "cm = confusion_matrix(y_test, y_pred)\n",
    "cm"
   ]
  },
  {
   "cell_type": "code",
   "execution_count": 22,
   "metadata": {},
   "outputs": [
    {
     "name": "stdout",
     "output_type": "stream",
     "text": [
      "0.863\n"
     ]
    }
   ],
   "source": [
    "# calculate above result\n",
    "print((1519+207)/2000)"
   ]
  },
  {
   "cell_type": "code",
   "execution_count": 23,
   "metadata": {},
   "outputs": [
    {
     "name": "stdout",
     "output_type": "stream",
     "text": [
      "[[False]]\n"
     ]
    }
   ],
   "source": [
    "# Predicting a single new observation\n",
    "\"\"\"Predict if the customer with the following informations will leave the bank:\n",
    "Geography: France\n",
    "Credit Score: 600\n",
    "Gender: Male\n",
    "Age: 40\n",
    "Tenure: 3\n",
    "Balance: 60000\n",
    "Number of Products: 2\n",
    "Has Credit Card: Yes\n",
    "Is Active Member: Yes\n",
    "Estimated Salary: 50000\"\"\"\n",
    "\n",
    "new_prediction = classifier.predict(sc.transform(np.array([[0.0, 0, 600, 1, 40, 3, 60000, 2, 1, 1, 50000]])))\n",
    "new_prediction = (new_prediction > 0.5)\n",
    "print(new_prediction)\n"
   ]
  },
  {
   "cell_type": "code",
   "execution_count": null,
   "metadata": {},
   "outputs": [],
   "source": []
  }
 ],
 "metadata": {
  "kernelspec": {
   "display_name": "Python 3",
   "language": "python",
   "name": "python3"
  },
  "language_info": {
   "codemirror_mode": {
    "name": "ipython",
    "version": 3
   },
   "file_extension": ".py",
   "mimetype": "text/x-python",
   "name": "python",
   "nbconvert_exporter": "python",
   "pygments_lexer": "ipython3",
   "version": "3.5.5"
  }
 },
 "nbformat": 4,
 "nbformat_minor": 2
}
